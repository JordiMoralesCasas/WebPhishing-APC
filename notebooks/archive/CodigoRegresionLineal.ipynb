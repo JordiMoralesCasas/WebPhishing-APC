{
 "cells": [
  {
   "cell_type": "code",
   "execution_count": null,
   "id": "aa6b1402-825d-47a3-b9b2-0dac5f8335ba",
   "metadata": {},
   "outputs": [],
   "source": [
    "#Lineal\n",
    "\n",
    "x_train, y_train, x_val, y_val = split_data(X, Y)\n",
    "regr = regression(x_train, y_train)    \n",
    "error = mse(y_train, regr.predict(x_train)) # calculem error\n",
    "r2 = r2_score(y_train, regr.predict(x_train))\n",
    "print(\"Error en train : %f\" %(error))\n",
    "print(\"R2 score en train: %f\\n\" %(r2))\n",
    "\n",
    "\n",
    "error = mse(y_val, regr.predict(x_val)) # calculem error\n",
    "r2 = r2_score(y_val, regr.predict(x_val))\n",
    "print(\"Error en test : %f\" %(error))\n",
    "print(\"R2 score en test : %f\" %(r2))\n",
    "\n",
    "print ('\\nCoefs (per dim) ', regr.coef_, ' and intercept: ', regr.intercept_)"
   ]
  },
  {
   "cell_type": "code",
   "execution_count": null,
   "id": "5bcabad3-b684-435d-9e25-e05e4792d70c",
   "metadata": {},
   "outputs": [],
   "source": [
    "#Polinomial\n",
    "\n",
    "x_train, y_train, x_val, y_val = split_data(X, Y)\n",
    "\n",
    "model = Pipeline([('poly', PolynomialFeatures(degree=2)),\n",
    "                  ('linear', LinearRegression(fit_intercept=True))])\n",
    "\n",
    "model.fit(x_train, y_train)\n",
    "\n",
    "error = mse(y_train, model.predict(x_train)) # calculem error\n",
    "r2 = r2_score(y_train, model.predict(x_train))\n",
    "print(\"Error en train : %f\" %(error))\n",
    "print(\"R2 score en train: %f\\n\" %(r2))\n",
    "\n",
    "\n",
    "error = mse(y_val, model.predict(x_val)) # calculem error\n",
    "r2 = r2_score(y_val, model.predict(x_val))\n",
    "print(\"Error en test : %f\" %(error))\n",
    "print(\"R2 score en test : %f\" %(r2))"
   ]
  }
 ],
 "metadata": {
  "kernelspec": {
   "display_name": "Python 3",
   "language": "python",
   "name": "python3"
  },
  "language_info": {
   "codemirror_mode": {
    "name": "ipython",
    "version": 3
   },
   "file_extension": ".py",
   "mimetype": "text/x-python",
   "name": "python",
   "nbconvert_exporter": "python",
   "pygments_lexer": "ipython3",
   "version": "3.8.8"
  }
 },
 "nbformat": 4,
 "nbformat_minor": 5
}
