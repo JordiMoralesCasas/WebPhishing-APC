{
 "cells": [
  {
   "cell_type": "code",
   "execution_count": null,
   "id": "68bab942-a5f9-490e-9c6e-ea7b3f765e37",
   "metadata": {},
   "outputs": [],
   "source": [
    "import numpy as np\n",
    "import pandas as pd\n",
    "import math\n",
    "import seaborn as sns\n",
    "import plotly.express as px\n",
    "import scipy.stats\n",
    "from matplotlib import pyplot as plt\n",
    "from tqdm import tqdm\n",
    "from mpl_toolkits.mplot3d import Axes3D\n",
    "\n",
    "import pickle\n",
    "\n",
    "# Torch\n",
    "import torch\n",
    "from torchvision import datasets, transforms\n",
    "from torch.utils.data import Dataset\n",
    "\n",
    "#Sklearn\n",
    "from sklearn import svm\n",
    "from sklearn.decomposition import PCA\n",
    "from sklearn.preprocessing import MinMaxScaler\n",
    "from sklearn.model_selection import train_test_split\n",
    "from sklearn.datasets import make_regression\n",
    "from sklearn.linear_model import LinearRegression\n",
    "from sklearn.metrics import r2_score\n",
    "from sklearn.preprocessing import StandardScaler\n",
    "from sklearn.pipeline import Pipeline\n",
    "from sklearn.preprocessing import PolynomialFeatures\n",
    "from sklearn.preprocessing import StandardScaler\n",
    "from sklearn.feature_selection import RFE\n",
    "from sklearn.metrics import confusion_matrix\n",
    "from sklearn.model_selection import KFold\n",
    "\n",
    "import sys\n",
    "sys.path.append('../../src')\n",
    "from score_model import *"
   ]
  },
  {
   "cell_type": "markdown",
   "id": "9836bd66-4be0-4cdb-8e48-f4537a8fcc21",
   "metadata": {},
   "source": [
    "Settings"
   ]
  },
  {
   "cell_type": "code",
   "execution_count": null,
   "id": "922281c0-cd7e-475b-9f1f-589b4755bf91",
   "metadata": {},
   "outputs": [],
   "source": [
    "pd.set_option('display.float_format', lambda x: '%.3f' % x)\n",
    "pd.set_option('display.max_columns', None)\n",
    "pd.set_option('display.max_rows', 20)\n",
    "\n",
    "\n",
    "np.random.seed(1)"
   ]
  },
  {
   "cell_type": "markdown",
   "id": "e021feaf-da94-41a9-bb58-67a19142cfd8",
   "metadata": {},
   "source": [
    "### Loading dataset"
   ]
  },
  {
   "cell_type": "code",
   "execution_count": null,
   "id": "5f351706-cc0a-44ac-9740-4b778229b318",
   "metadata": {},
   "outputs": [],
   "source": [
    "ds_original = pd.read_csv('..\\data\\external\\dataset_phishing.csv', header=0, delimiter=',',decimal=',')\n",
    "\n",
    "print(\"Original dataset dimensions:\", ds_original.shape)"
   ]
  },
  {
   "cell_type": "markdown",
   "id": "0c15932a-3d87-4c2d-87fe-6fe61fb5bb06",
   "metadata": {},
   "source": [
    "We will try to predict the status of an url"
   ]
  },
  {
   "cell_type": "code",
   "execution_count": null,
   "id": "f8a3cfd9-6dfa-4172-a236-6c11360c27a9",
   "metadata": {},
   "outputs": [],
   "source": [
    "y = ds_original[:][\"status\"] \n",
    "x = ds_original.drop(columns = \"status\")\n",
    "\n",
    "print(\"Number of samples:\", x.shape[0])\n",
    "print(\"Number of features:\", x.shape[1])"
   ]
  },
  {
   "cell_type": "markdown",
   "id": "a9ac6d51-7c47-40a5-9215-3a5d48bb5f83",
   "metadata": {},
   "source": [
    "## Data preprocessing"
   ]
  },
  {
   "cell_type": "markdown",
   "id": "18a93f32-fa58-423a-b302-385b25cfc041",
   "metadata": {},
   "source": [
    "### - Data cleaning"
   ]
  },
  {
   "cell_type": "markdown",
   "id": "e05bbee2-e7c0-42c0-82ba-573bf4cd535b",
   "metadata": {},
   "source": [
    "Searching for empty or unknown values in the dataset"
   ]
  },
  {
   "cell_type": "code",
   "execution_count": null,
   "id": "900a4fb8-cd94-4910-91d3-b3cd6fde6506",
   "metadata": {},
   "outputs": [],
   "source": [
    "print(\"Null values:\", x.isnull().sum().sum())\n",
    "print(\"NA values:\", x.isna().sum().sum())\n",
    "\n",
    "print(\"\\nColumns with values equal to -1:\\n\", ((x == -1).sum())[((x == -1).sum() != 0).tolist()])"
   ]
  },
  {
   "cell_type": "markdown",
   "id": "81c2342e-47db-403d-97fe-dcc44625944f",
   "metadata": {},
   "source": [
    "Replacing unknown values with the mean of the known values"
   ]
  },
  {
   "cell_type": "code",
   "execution_count": null,
   "id": "1bc43a9c-66e2-4a77-a3c9-573ae6906a3a",
   "metadata": {},
   "outputs": [],
   "source": [
    "known_domain_age = x.loc[x['domain_age'] != -1, 'domain_age']\n",
    "mean_domain_age = known_domain_age.sum()/len(known_domain_age)\n",
    "mean_domain_age\n",
    "\n",
    "x.loc[x[\"domain_age\"] == -1, 'domain_age'] = mean_domain_age\n",
    "\n",
    "known_domain_registration_length = x.loc[x['domain_registration_length'] != -1, 'domain_registration_length']\n",
    "mean_domain_registration_length = known_domain_registration_length.sum()/len(known_domain_registration_length)\n",
    "mean_domain_registration_length\n",
    "\n",
    "x.loc[x[\"domain_registration_length\"] == -1, 'domain_registration_length'] = mean_domain_registration_length"
   ]
  },
  {
   "cell_type": "code",
   "execution_count": null,
   "id": "8c10710e-be45-4f5a-adaf-1bd7fa3577f7",
   "metadata": {},
   "outputs": [],
   "source": [
    "(x[[\"domain_age\", \"domain_registration_length\"]] == -1).sum()"
   ]
  },
  {
   "cell_type": "markdown",
   "id": "3841563c-2517-42aa-971a-f4796b941943",
   "metadata": {},
   "source": [
    "The \"url\" feature is not useful since all the information that can be extracted from it is already collected in the rest of columns."
   ]
  },
  {
   "cell_type": "code",
   "execution_count": null,
   "id": "3156f8bf-2c30-4b9a-95f3-109f047e8e15",
   "metadata": {},
   "outputs": [],
   "source": [
    "x = x.drop(columns = \"url\")"
   ]
  },
  {
   "cell_type": "markdown",
   "id": "5f4b89b6-fcae-4b67-9ae6-7126f14413f2",
   "metadata": {},
   "source": [
    "### - Data conversion"
   ]
  },
  {
   "cell_type": "markdown",
   "id": "9b06954e-4529-4751-aecb-15e64981f906",
   "metadata": {},
   "source": [
    "Since we are trying to predict the status ($Y$ vector), we need to convert the _Phishing_ and _Legitimate_ labels to $1$ and $0$."
   ]
  },
  {
   "cell_type": "code",
   "execution_count": null,
   "id": "fa5ec25c-79a6-41e7-9218-491b71fa59d4",
   "metadata": {},
   "outputs": [],
   "source": [
    "print(y.describe())\n",
    "\n",
    "status_labels = y.copy() # \"string\" labels\n",
    "\n",
    "y = y.replace({\"phishing\" : 1, \"legitimate\" : 0})\n",
    "\n",
    "print(\"\\nY content:\", set(y))\n",
    "print(\"\\nY shape:\", y.shape)\n",
    "print(\"\\nX shape:\", x.shape)"
   ]
  },
  {
   "cell_type": "markdown",
   "id": "69f5648f-b19f-4a83-9a9e-68bb0726a08a",
   "metadata": {},
   "source": [
    "The $X$ columns with float numbers are actually stored as an unknown _object_ variable. A conversion to float type is needed"
   ]
  },
  {
   "cell_type": "code",
   "execution_count": null,
   "id": "6d7207c9-0201-41af-896a-6411c9be8d8c",
   "metadata": {},
   "outputs": [],
   "source": [
    "type_of_cols = [x.dtypes == object][0]\n",
    "for col in range(x.shape[1]):\n",
    "    if type_of_cols[col]:\n",
    "        x[x.columns[col]] = x[x.columns[col]].astype('float')"
   ]
  },
  {
   "cell_type": "markdown",
   "id": "1463342d-7823-4025-bf63-a71d2066e06f",
   "metadata": {},
   "source": [
    "### - Data normalization"
   ]
  },
  {
   "cell_type": "markdown",
   "id": "9776b780-f0d3-48c6-b3c7-c467076cbbf8",
   "metadata": {},
   "source": [
    "First we have to determine which features are categorical."
   ]
  },
  {
   "cell_type": "code",
   "execution_count": null,
   "id": "31c6d7f7-dc03-4d48-9f4f-398c4a388e1d",
   "metadata": {},
   "outputs": [],
   "source": [
    "categorical_features = [\"ip\", \"http_in_path\", \"https_token\", \"punycode\", \"port\", \"tld_in_path\", \"tld_in_subdomain\", \"abnormal_subdomain\", \"prefix_suffix\", \"random_domain\", \"shortening_service\", \"path_extension\",\n",
    "\"domain_in_brand\", \"brand_in_subdomain\", \"brand_in_path\", \"suspecious_tld\", \"login_form\", \"external_favicon\", \"submit_email\", \"sfh\", \"iframe\", \"popup_window\", \"onmouseover\", \n",
    "\"right_clic\", \"empty_title\", \"domain_in_title\", \"domain_with_copyright\", \"whois_registered_domain\", \"dns_record\", \"google_index\"]\n",
    "\n",
    "non_categorical_features = [i for i in x.columns if (i not in categorical_features)]\n",
    "\n",
    "x_non_categorical = x[non_categorical_features]\n",
    "x_categorical = x[categorical_features]"
   ]
  },
  {
   "cell_type": "code",
   "execution_count": null,
   "id": "90a2264e-2a67-4694-acf5-3037ef060b19",
   "metadata": {},
   "outputs": [],
   "source": [
    "scaler = StandardScaler() # Standardize features by removing the mean and scaling to unit variance.\n",
    "#scaler = MinMaxScaler()\n",
    "\n",
    "x_non_categorical_standard = scaler.fit_transform(x_non_categorical)\n",
    "\n",
    "df = pd.DataFrame(x_non_categorical_standard)\n",
    "df.columns = non_categorical_features\n",
    "\n",
    "x_standard = pd.concat([df, x_categorical], axis = 1)"
   ]
  },
  {
   "cell_type": "markdown",
   "id": "b45e0aaf-d0cc-4d4f-b01c-e34f41132797",
   "metadata": {},
   "source": [
    "## Feature selection"
   ]
  },
  {
   "cell_type": "markdown",
   "id": "38477574-41cf-4b1e-bf1b-c3e8292ca906",
   "metadata": {},
   "source": [
    "A good idea for discarding some columns would be to drop those whose mean is very close to 0. We can do this only with the features that represent some kind of counter because that means that most of the samples doesn't register that feature."
   ]
  },
  {
   "cell_type": "code",
   "execution_count": null,
   "id": "a380be5d-387d-472c-868f-e92a76bf76c1",
   "metadata": {},
   "outputs": [],
   "source": [
    "columns_to_drop = []\n",
    "\n",
    "for col in range(x.shape[1]):\n",
    "    name_of_feature = x.columns[col]\n",
    "    if abs(np.mean(x[name_of_feature])) <= 0.01:\n",
    "        columns_to_drop.append(name_of_feature)\n",
    "        \n",
    "x[columns_to_drop].describe()"
   ]
  },
  {
   "cell_type": "markdown",
   "id": "c31564f7-06d6-448f-8a3c-4d27b7bdf3c9",
   "metadata": {},
   "source": [
    "Veient els màxims i mínims d'aquestes columnes queda clar que totes aquestes columnes indiquen un compte d'alguna cosa o són variables binaries i, en qualsevol cas, no donen suficient informació per ajudar en la classifició."
   ]
  },
  {
   "cell_type": "code",
   "execution_count": null,
   "id": "65b82063-feb3-4e50-8a03-678835c714ea",
   "metadata": {},
   "outputs": [],
   "source": [
    "#x = x.drop(columns = columns_to_drop)\n",
    "#x_standard = x_standard.drop(columns = columns_to_drop)\n",
    "\n",
    "print(\"Number of samples:\", x.shape[0])\n",
    "print(\"Number of features:\", x.shape[1])"
   ]
  },
  {
   "cell_type": "code",
   "execution_count": null,
   "id": "16d14251-8c79-46cf-85db-88ac43339825",
   "metadata": {},
   "outputs": [],
   "source": [
    "def split_data(x, y, train_ratio=0.8):\n",
    "    indices = np.arange(x.shape[0])\n",
    "    np.random.shuffle(indices)\n",
    "    n_train = int(np.floor(x.shape[0]*train_ratio))\n",
    "    indices_train = indices[:n_train]\n",
    "    indices_val = indices[n_train:] \n",
    "    x_train = x[indices_train, :]\n",
    "    y_train = y[indices_train]\n",
    "    x_val = x[indices_val, :]\n",
    "    y_val = y[indices_val]\n",
    "    return x_train, y_train, x_val, y_val\n",
    "\n",
    "# Dividim dades d'entrenament\n",
    "x_train, y_train, x_val, y_val = split_data(x_standard.values, y)\n",
    "\n",
    "r2_table = np.zeros((x_train.shape[1], 2))\n",
    "\n",
    "for i in range(x_train.shape[1]):\n",
    "    x_t = x_train[:,i] # seleccionem atribut i en conjunt de train\n",
    "    x_v = x_val[:,i] # seleccionem atribut i en conjunt de val.\n",
    "    x_t = np.reshape(x_t,(x_t.shape[0],1))\n",
    "    x_v = np.reshape(x_v,(x_v.shape[0],1))\n",
    "\n",
    "    regr = LinearRegression()\n",
    "    regr.fit(x_t, y_train)\n",
    "    \n",
    "    r2 = r2_score(y_val, regr.predict(x_v))\n",
    "    \n",
    "    r2_table[i, 1] = r2\n",
    "    r2_table[i, 0] = i"
   ]
  },
  {
   "cell_type": "markdown",
   "id": "19397506-ba74-4d4d-98b9-5ea68b8984b0",
   "metadata": {},
   "source": [
    "We create a reduced dataset with the best atributes"
   ]
  },
  {
   "cell_type": "code",
   "execution_count": null,
   "id": "81b82dc7-1982-48c3-8d16-87395e3698be",
   "metadata": {},
   "outputs": [],
   "source": [
    "best_atributes = r2_table[r2_table[:, 1].argsort()[::-1]][:,0].astype('int')\n",
    "\n",
    "\n",
    "reduced_dataset_standard = x_standard[x_standard.columns[best_atributes[:15]]]\n",
    "reduced_dataset_standard = reduced_dataset_standard.assign(status = y.values)\n",
    "\n",
    "\n",
    "reduced_dataset = x[x_standard.columns[best_atributes[:15]]]\n",
    "reduced_dataset = reduced_dataset.assign(status = y.values)\n",
    "\n",
    "\n",
    "\n",
    "X = reduced_dataset.drop(columns='status').values\n",
    "X_standard = reduced_dataset_standard.drop(columns='status').values\n",
    "\n",
    "Y = reduced_dataset.filter(['status']).values"
   ]
  },
  {
   "cell_type": "markdown",
   "id": "e9701bf1-576c-44b1-b3b3-0d0eb66b6157",
   "metadata": {},
   "source": [
    "Relació entre variables no categoriques"
   ]
  },
  {
   "cell_type": "code",
   "execution_count": null,
   "id": "a3ec829f-b342-4abb-9282-61a27c04f952",
   "metadata": {},
   "outputs": [],
   "source": [
    "reduced_dataset.insert(reduced_dataset.shape[1], \"Status\", status_labels)\n",
    "#relacio = sns.pairplot(reduced_dataset, hue = \"Status\", y_vars = [\"status\"], x_vars = list(reduced_dataset.columns[:-2]))\n",
    "#relacio.fig.set_size_inches(15,2)\n",
    "#relacio._legend.set_title(\"Status\")\n",
    "reduced_dataset.drop(columns = \"Status\")\n",
    "reduced_dataset = reduced_dataset.drop(columns = \"Status\")"
   ]
  },
  {
   "cell_type": "markdown",
   "id": "f57806b5-1bd4-4aa9-a99b-d182d6dac800",
   "metadata": {},
   "source": [
    "Correlació entre les variables independents i la dependent"
   ]
  },
  {
   "cell_type": "code",
   "execution_count": null,
   "id": "e1057778-5344-4d50-848c-0a82f4066b4d",
   "metadata": {},
   "outputs": [],
   "source": [
    "correlacio = reduced_dataset.corr()\n",
    "\n",
    "plt.figure()\n",
    "ax = sns.heatmap(pd.DataFrame(correlacio[\"status\"][:-1]), annot=True, linewidths=.5)"
   ]
  },
  {
   "cell_type": "code",
   "execution_count": null,
   "id": "08512be2-f62d-4a62-a009-6386cce50e47",
   "metadata": {},
   "outputs": [],
   "source": [
    "#correlacio = reduced_dataset.corr()\n",
    "\n",
    "#plt.figure()\n",
    "#ax = sns.heatmap(pd.DataFrame(correlacio), annot=True, linewidths=.5)"
   ]
  },
  {
   "cell_type": "code",
   "execution_count": null,
   "id": "b56f3036-932b-4e14-ad7b-62197b0b56e9",
   "metadata": {},
   "outputs": [],
   "source": [
    "#relacio = sns.pairplot(reduced_dataset, hue = \"status\")"
   ]
  },
  {
   "cell_type": "markdown",
   "id": "aaf83d3c-e79b-4aef-ae7e-145dd9a67ba8",
   "metadata": {},
   "source": [
    "Utilities"
   ]
  },
  {
   "cell_type": "code",
   "execution_count": null,
   "id": "d8158b0e-15cf-4521-9314-00b27d2cebc2",
   "metadata": {},
   "outputs": [],
   "source": [
    "def visualize_confusion_matrix(y_pred, y_real):\n",
    "    # mostra la matriu de confusió\n",
    "    cm = confusion_matrix(y_real, y_pred)\n",
    "    plt.subplots(figsize=(10, 6))\n",
    "    sns.heatmap(cm, annot = True, fmt = 'g')\n",
    "    plt.xlabel(\"Predicted\")\n",
    "    plt.ylabel(\"Actual\")\n",
    "    plt.title(\"Confusion Matrix\")\n",
    "    plt.show()"
   ]
  },
  {
   "cell_type": "markdown",
   "id": "7113b79c-e9d9-4e09-ba83-38880d9076e1",
   "metadata": {},
   "source": [
    "PCA Analysis"
   ]
  },
  {
   "cell_type": "code",
   "execution_count": null,
   "id": "eb8168fe-c7aa-4c77-b3b6-383776c1792a",
   "metadata": {},
   "outputs": [],
   "source": [
    "X_torch = torch.tensor(X_standard)\n",
    "Y_torch = torch.tensor(Y)"
   ]
  },
  {
   "cell_type": "code",
   "execution_count": null,
   "id": "4c0fe341-3889-4d07-80e8-6d9b8f9adcee",
   "metadata": {},
   "outputs": [],
   "source": [
    "V = torch.pca_lowrank(X_torch, q=None, center=False, niter=100)[2]\n",
    "pca = torch.matmul(X_torch, V[:, :2])\n",
    "\n",
    "pt = sns.scatterplot(x = pca[:, 0], y = pca[:, 1], hue = status_labels);\n",
    "pt.set_xlim(-5,28);\n",
    "pt.set_ylim(-13,4);"
   ]
  },
  {
   "cell_type": "markdown",
   "id": "21e67367-6dcf-4633-aecb-9d2a84d994c6",
   "metadata": {},
   "source": [
    "\"Legitimate\" status data"
   ]
  },
  {
   "cell_type": "code",
   "execution_count": null,
   "id": "5af094cf-1550-490d-9e5f-c37fcd856b4e",
   "metadata": {},
   "outputs": [],
   "source": [
    "pt = sns.scatterplot(x = pca[reduced_dataset_standard[\"status\"] == 0 , 0], y = pca[reduced_dataset_standard[\"status\"] == 0 , 1]);\n",
    "pt.set_xlim(-5,28);\n",
    "pt.set_ylim(-13,4);"
   ]
  },
  {
   "cell_type": "markdown",
   "id": "7b13bb32-4f7f-42e6-bd8b-a3b22f7736cc",
   "metadata": {},
   "source": [
    "\"Phishing\" status data"
   ]
  },
  {
   "cell_type": "code",
   "execution_count": null,
   "id": "72a54572-95b4-43bb-8e86-d2ec81bf0098",
   "metadata": {},
   "outputs": [],
   "source": [
    "pt = sns.scatterplot(x = pca[reduced_dataset_standard[\"status\"] == 1 , 0], y = pca[reduced_dataset_standard[\"status\"] == 1 , 1]);\n",
    "pt.set_xlim(-5,28);\n",
    "pt.set_ylim(-13,4);"
   ]
  },
  {
   "cell_type": "markdown",
   "id": "dada64e9-00a3-4d8c-a945-ea6934b218bc",
   "metadata": {},
   "source": [
    "3D PCA for visualization:"
   ]
  },
  {
   "cell_type": "code",
   "execution_count": null,
   "id": "8c71d2df-751c-41da-8e1f-4427ebed5501",
   "metadata": {},
   "outputs": [],
   "source": [
    "V = torch.pca_lowrank(X_torch, q=None, center=True, niter=3)[2]\n",
    "pca = torch.matmul(X_torch, V[:, :3])\n",
    "\n",
    "df = px.data.iris()\n",
    "fig = px.scatter_3d(x = pca[:, 0], y = pca[:, 1], z = pca[:, 2], color = status_labels)\n",
    "fig.show()"
   ]
  },
  {
   "cell_type": "markdown",
   "id": "f536642b-26d7-415f-9c64-8828df3495b7",
   "metadata": {},
   "source": [
    "#### Logistic regression"
   ]
  },
  {
   "cell_type": "markdown",
   "id": "01173bf5-59a1-4937-8d8c-794cf3d1e51f",
   "metadata": {},
   "source": [
    "Loading model and testing"
   ]
  },
  {
   "cell_type": "code",
   "execution_count": null,
   "id": "3cf51105-3d8a-49e2-80dd-1c107e56708b",
   "metadata": {},
   "outputs": [],
   "source": [
    "score_torch_model('../models/logiReg.pth', reduced_dataset_standard)"
   ]
  },
  {
   "cell_type": "markdown",
   "id": "03ef56ac-8dfd-4048-9345-e866c84835d4",
   "metadata": {},
   "source": [
    "Visualizing the best model"
   ]
  },
  {
   "cell_type": "code",
   "execution_count": null,
   "id": "030befec-24f4-4137-95ad-5e2c97422996",
   "metadata": {},
   "outputs": [],
   "source": [
    "X_torch = torch.tensor(X_standard).float()\n",
    "Y_torch = torch.tensor(Y)\n",
    "#Load the saved logistic model\n",
    "model = pickle.load(open(f'../models/logiReg.pth', 'rb'))\n",
    "\n",
    "#Parameters from the linear model of the logistic regression\n",
    "parameters = [param.data for name, param in model.named_parameters()]\n",
    "\n",
    "#Evaluate each sample in the linear model\n",
    "linear_model_values = []\n",
    "preds = []\n",
    "for sample in X_torch:\n",
    "    params = parameters[0].numpy()\n",
    "    bias = parameters[1].numpy()\n",
    "\n",
    "    p = np.concatenate((bias.reshape(1,1), params.transpose()))        \n",
    "    x = np.concatenate((np.ones((1, 1)), sample.reshape(sample.shape[0], 1)))\n",
    "\n",
    "    linear_model_values.append(np.dot(x.T, p)[0][0])\n",
    "    \n",
    "    #Get the predictions for each sample\n",
    "    preds.append(model(sample).detach().numpy()[0])\n",
    "\n",
    "\n",
    "# Labeling samples by class (predicted and actual)\n",
    "color_pred = np.array([1 if i >= 0.5 else 0 for i in preds])\n",
    "color_real = Y.reshape(Y_torch.shape[0])\n",
    "\n",
    "plt.figure()\n",
    "plt.title(\"Actual labeling\")\n",
    "sns.scatterplot(x = linear_model_values, y=Y.T[0], hue=color_real)\n",
    "plt.show()\n",
    "\n",
    "plt.figure()\n",
    "plt.title(\"Prediction\")\n",
    "sns.scatterplot(x=linear_model_values, y=preds, hue=color_real)\n",
    "plt.show()\n",
    "\n",
    "mal1 = [True if (v >= 0.5 and Y.T[0][i] == 0) else False for i,v in enumerate(preds)]\n",
    "mal2 = [True if (v < 0.5 and Y.T[0][i] == 1) else False for i,v in enumerate(preds)]\n",
    "mal = np.logical_or(mal1, mal2)\n",
    "\n",
    "color_pred_mal = color_pred.copy()\n",
    "color_pred_mal[mal] = 2\n",
    "\n",
    "plt.figure()\n",
    "plt.title(\"Prediction, wrong values in red\")\n",
    "sns.scatterplot(x=linear_model_values, y=preds, hue=color_pred_mal, palette = [\"blue\", \"orange\", \"red\"])\n",
    "plt.show()\n",
    "\n",
    "visualize_confusion_matrix(color_pred, color_real)"
   ]
  },
  {
   "cell_type": "markdown",
   "id": "ccfdee5c-fe95-4454-9791-66243baacc28",
   "metadata": {},
   "source": [
    "### SVM"
   ]
  },
  {
   "cell_type": "code",
   "execution_count": null,
   "id": "73712bf0-e301-4024-b7da-86a12b2c9259",
   "metadata": {},
   "outputs": [],
   "source": [
    "score_sklearn_model(\"../models/modelLinear.sav\", reduced_dataset_standard, True)"
   ]
  },
  {
   "cell_type": "code",
   "execution_count": null,
   "id": "849d9902-4cd6-4b10-a2c1-a1d0ea9e19f0",
   "metadata": {},
   "outputs": [],
   "source": [
    "score_sklearn_model(\"../models/modelRbf.sav\", reduced_dataset_standard)"
   ]
  },
  {
   "cell_type": "code",
   "execution_count": null,
   "id": "f97e5ae0-7546-42f3-9245-2ea4164de7ed",
   "metadata": {},
   "outputs": [],
   "source": [
    "score_sklearn_model(\"../models/modelSigmoid.sav\", reduced_dataset_standard, True)"
   ]
  },
  {
   "cell_type": "code",
   "execution_count": null,
   "id": "4e18563f-f20c-41ef-bfb0-1241a3911b04",
   "metadata": {},
   "outputs": [],
   "source": [
    "score_sklearn_model(\"../models/modelPoly1.sav\", reduced_dataset_standard, True)"
   ]
  },
  {
   "cell_type": "code",
   "execution_count": null,
   "id": "38babefd-4683-4afa-9ced-4cef11989748",
   "metadata": {},
   "outputs": [],
   "source": [
    "score_sklearn_model(\"../models/modelPoly2.sav\", reduced_dataset_standard, True)"
   ]
  },
  {
   "cell_type": "code",
   "execution_count": null,
   "id": "ed4e2742-bfa8-4ec1-9843-e2f2255295a5",
   "metadata": {},
   "outputs": [],
   "source": [
    "score_sklearn_model(\"../models/modelPoly3.sav\", reduced_dataset_standard, True)"
   ]
  },
  {
   "cell_type": "code",
   "execution_count": null,
   "id": "de35ed8a-c463-48b9-993a-ecb67a05fef7",
   "metadata": {},
   "outputs": [],
   "source": []
  }
 ],
 "metadata": {
  "kernelspec": {
   "display_name": "Python 3",
   "language": "python",
   "name": "python3"
  },
  "language_info": {
   "codemirror_mode": {
    "name": "ipython",
    "version": 3
   },
   "file_extension": ".py",
   "mimetype": "text/x-python",
   "name": "python",
   "nbconvert_exporter": "python",
   "pygments_lexer": "ipython3",
   "version": "3.8.8"
  }
 },
 "nbformat": 4,
 "nbformat_minor": 5
}
